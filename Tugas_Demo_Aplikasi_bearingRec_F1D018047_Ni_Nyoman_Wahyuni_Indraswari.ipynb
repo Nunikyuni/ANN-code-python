{
  "nbformat": 4,
  "nbformat_minor": 5,
  "metadata": {
    "kernelspec": {
      "display_name": "Python 3",
      "language": "python",
      "name": "python3"
    },
    "language_info": {
      "codemirror_mode": {
        "name": "ipython",
        "version": 3
      },
      "file_extension": ".py",
      "mimetype": "text/x-python",
      "name": "python",
      "nbconvert_exporter": "python",
      "pygments_lexer": "ipython3",
      "version": "3.8.8"
    },
    "colab": {
      "name": "Tugas Demo Aplikasi_bearingRec_F1D018047_Ni Nyoman Wahyuni Indraswari.ipynb",
      "provenance": []
    }
  },
  "cells": [
    {
      "cell_type": "markdown",
      "metadata": {
        "id": "a9780ee5"
      },
      "source": [
        "# Masalah Kearusakan Bearing (Klaher)\n",
        "\n",
        "Diberikan data kerusakan Bearing sudatu uji kualitas produk Bearing dari devisi QC seperti pada Gambar berikut:\n",
        "![image-2.png](attachment:image-2.png)\n",
        "\n",
        "Warna biru: merepresentasikan data bearing yang Baik (OK) sedangan  warna merah merepresentasikan Rusak (tidak OK). Perbanding jumlah sample data Baik vs Rusak sebanyak: 1864 vs 136. Data kerusakan simpan dalam file data dengan format \".mat\" yang dapat diunduh dilink https://drive.google.com/file/d/1UftoS3q351WhdI0oHMLxi58_C0KiFwqE/view?usp=sharing. Data tersimpan dengan struktur array pertama adalah target yang bernilai 1, 2, dan 3 yang merepresentasikan *OK, OverLoad, Bad*.\n",
        "Rancangan suatu solusi berbasis ANN yang dapat menyelesaikan permasalahan tersebut. \n",
        "\n",
        "Untuk menyelesaikan permasalahan ini diperlukan beberapa langkah yaitu:\n",
        "1. Load data dan simpan dalam array\n",
        "2. Plot data untuk memastikan apakah data yang diload telah sesuai dengan Gambar yang diberikan \n",
        "3. Gunakan PCA untuk melakukan reduksi dimensional dari data input. \n",
        "4. Rancang ANN:\n",
        "    + Data preparation\n",
        "    + Design MLP\n",
        "    + Training dan evaluasi\n",
        "5. Kesimpulan     \n",
        "\n",
        "## 1. Load data dan simpan dalam array\n",
        "Untuk mengload data dengan format \".mat\" dapat dilakukan dengan fungsi dibawah ini. Fungsi ini bersumber dari link: #https://gist.github.com/black-puppydog/e74b86319d25dc307a1dc3587ade6469. Dengan memanfaatkan fungsi ini maka data dapat di load dengan memanggil fungsi \"load_matfile(namafile):\""
      ],
      "id": "a9780ee5"
    },
    {
      "cell_type": "code",
      "metadata": {
        "colab": {
          "base_uri": "https://localhost:8080/"
        },
        "id": "3ad8be40",
        "outputId": "c408531a-b1b3-4c5a-e12a-74b1b162cad3"
      },
      "source": [
        "import numpy as np\n",
        "import scipy.io as scio\n",
        "\n",
        "def parse_mat(o):\n",
        "    # this seems to happen for lists (1D cell arrays usually)\n",
        "    if o.__class__ == np.ndarray and o.dtype == np.object and len(o.shape) > 0:\n",
        "        assert len(o.shape) == 1, \"didn't see this coming\"\n",
        "        return [parse_mat(entry) for entry in o]\n",
        "    \n",
        "    # this would be a matlab struct\n",
        "    if o.__class__ == scio.matlab.mio5_params.mat_struct:\n",
        "        return {fn: parse_mat(getattr(o, fn)) for fn in o._fieldnames}\n",
        "    \n",
        "    # this means this should either be a regular numeric matrix\n",
        "    # or a scalar\n",
        "    return o\n",
        "\n",
        "def load_matfile(fname):\n",
        "    mat = scio.loadmat(fname, struct_as_record=False, squeeze_me=True)\n",
        "    keys = [k for k in mat.keys() if not k.startswith('_')]\n",
        "    if len(keys) == 1:\n",
        "        return parse_mat(mat[keys[0]])\n",
        "    else:\n",
        "        return [parse_mat(mat[k]) for k in keys]\n",
        "dt=load_matfile('data.mat')\n",
        "print('data=',dt)"
      ],
      "id": "3ad8be40",
      "execution_count": 12,
      "outputs": [
        {
          "output_type": "stream",
          "name": "stdout",
          "text": [
            "data= [array([1, 1, 1, ..., 2, 1, 1], dtype=uint8), array([[-0.04901449, -0.05344559, -0.0450396 , ...,  1.23450677,\n",
            "         1.24494634,  1.24289793],\n",
            "       [-0.05630339, -0.0442738 , -0.03232197, ...,  1.28481662,\n",
            "         1.28348885,  1.27425343],\n",
            "       [-0.05361775, -0.04876542, -0.03409616, ...,  1.23702617,\n",
            "         1.23956674,  1.23261425],\n",
            "       ...,\n",
            "       [-0.02946778, -0.03200098, -0.0475355 , ...,  1.11744336,\n",
            "         1.11268318,  1.12247897],\n",
            "       [-0.04460944, -0.04840634, -0.03409792, ...,  1.37600978,\n",
            "         1.38447876,  1.3804856 ],\n",
            "       [-0.04954877, -0.03705591, -0.02783408, ...,  1.38655055,\n",
            "         1.38152458,  1.36579942]]), ['1=OK', '2=Overload', '3=Crack']]\n"
          ]
        }
      ]
    },
    {
      "cell_type": "markdown",
      "metadata": {
        "id": "6f0de15a"
      },
      "source": [
        "Setelah diload data dipisahkan menjadi *target, data, dan label*, dengan cara:"
      ],
      "id": "6f0de15a"
    },
    {
      "cell_type": "code",
      "metadata": {
        "colab": {
          "base_uri": "https://localhost:8080/"
        },
        "id": "1ea6d17e",
        "outputId": "c1cb935a-2a7c-4897-e602-5215564226e8"
      },
      "source": [
        "target=np.array(dt[0])\n",
        "data=np.array(dt[1])\n",
        "label=np.array(dt[2])\n",
        "\n",
        "print ('ukuran target:',target.shape)\n",
        "print ('ukuran data:',data.shape)\n",
        "print ('ukuran label:',label.shape)"
      ],
      "id": "1ea6d17e",
      "execution_count": 13,
      "outputs": [
        {
          "output_type": "stream",
          "name": "stdout",
          "text": [
            "ukuran target: (2000,)\n",
            "ukuran data: (2000, 100)\n",
            "ukuran label: (3,)\n"
          ]
        }
      ]
    },
    {
      "cell_type": "markdown",
      "metadata": {
        "id": "1edfbec1"
      },
      "source": [
        "## 2. View data\n",
        "Pisahkan data dengan label 1=OK dan lainya tidak OK. Kemudian plot hasilnya. "
      ],
      "id": "1edfbec1"
    },
    {
      "cell_type": "code",
      "metadata": {
        "colab": {
          "base_uri": "https://localhost:8080/"
        },
        "id": "148a895a",
        "outputId": "e20f1d5b-7337-4dae-c159-0d10c7707a6f"
      },
      "source": [
        "idx1 = np.where(target ==1)\n",
        "idx2 = np.where(target >1)\n",
        "\n",
        "y1=data[idx1,:]\n",
        "y2=data[idx2,:]\n",
        "print ('ukuran y1:',y1.shape)\n",
        "print ('ukuran y2:',y2.shape)"
      ],
      "id": "148a895a",
      "execution_count": 14,
      "outputs": [
        {
          "output_type": "stream",
          "name": "stdout",
          "text": [
            "ukuran y1: (1, 1864, 100)\n",
            "ukuran y2: (1, 136, 100)\n"
          ]
        }
      ]
    },
    {
      "cell_type": "markdown",
      "metadata": {
        "id": "bf992800"
      },
      "source": [
        "Proses selanjutnya adalah plotting data yang berasosiasi OK dan Tidak OK:"
      ],
      "id": "bf992800"
    },
    {
      "cell_type": "code",
      "metadata": {
        "colab": {
          "base_uri": "https://localhost:8080/",
          "height": 279
        },
        "id": "b49a5260",
        "outputId": "337212ed-34d5-417c-c667-792441e128c1"
      },
      "source": [
        "#Plot data OK\n",
        "x1 = np.arange(0.0, 100, 1)\n",
        "y1=y1.reshape(1864, 100)\n",
        "import matplotlib.pyplot as plt\n",
        "for i in range(1864):\n",
        "    plt.plot(x1,y1[i,:],'b')\n",
        "\n",
        "#Plot data Not OK \n",
        "y1=y2.reshape(136, 100)\n",
        "for i in range(136):\n",
        "    plt.plot(x1,y1[i,:],'r')\n",
        "plt.ylabel('Force')\n",
        "plt.xlabel('time')\n",
        "plt.show()"
      ],
      "id": "b49a5260",
      "execution_count": 15,
      "outputs": [
        {
          "output_type": "display_data",
          "data": {
            "image/png": "[encoded data removed]",
            "text/plain": [
              "<Figure size 432x288 with 1 Axes>"
            ]
          },
          "metadata": {
            "needs_background": "light"
          }
        }
      ]
    },
    {
      "cell_type": "markdown",
      "metadata": {
        "id": "e35b7e48"
      },
      "source": [
        "## 3. Pengurangan Dimensi"
      ],
      "id": "e35b7e48"
    },
    {
      "cell_type": "code",
      "metadata": {
        "id": "d73ebcb4"
      },
      "source": [
        "from sklearn.decomposition import PCA\n",
        "from sklearn.preprocessing import StandardScaler\n",
        "\n",
        "# Standardizing the features\n",
        "data = StandardScaler().fit_transform(data)\n",
        "\n",
        "pca = PCA(n_components=2)\n",
        "fPca = pca.fit_transform(data)"
      ],
      "id": "d73ebcb4",
      "execution_count": 16,
      "outputs": []
    },
    {
      "cell_type": "code",
      "metadata": {
        "colab": {
          "base_uri": "https://localhost:8080/"
        },
        "id": "0cd302c5",
        "outputId": "231adb27-8c44-4819-de18-136820745282"
      },
      "source": [
        "print(fPca.shape)\n",
        "y1=fPca[idx1,:]\n",
        "y2=fPca[idx2,:]\n",
        "print(y1.shape)\n",
        "print(y2.shape)"
      ],
      "id": "0cd302c5",
      "execution_count": 17,
      "outputs": [
        {
          "output_type": "stream",
          "name": "stdout",
          "text": [
            "(2000, 2)\n",
            "(1, 1864, 2)\n",
            "(1, 136, 2)\n"
          ]
        }
      ]
    },
    {
      "cell_type": "markdown",
      "metadata": {
        "id": "8561e1d4"
      },
      "source": [
        "Plot hasil PCA"
      ],
      "id": "8561e1d4"
    },
    {
      "cell_type": "code",
      "metadata": {
        "colab": {
          "base_uri": "https://localhost:8080/",
          "height": 266
        },
        "id": "650bf040",
        "outputId": "f8759a0d-64af-417a-9551-7b60ea8ac4ad"
      },
      "source": [
        "y1=fPca[idx1,:]\n",
        "y2=fPca[idx2,:]\n",
        "y1=y1.reshape(1864,2)\n",
        "\n",
        "for i in range(1864):\n",
        "    plt.plot(y1[:,0],y1[:,1],'b*')\n",
        "    \n",
        "y1=y2.reshape(136, 2)\n",
        "for i in range(136):\n",
        "    plt.plot(y1[:,0],y1[:,1],'r*')\n",
        "plt.show()"
      ],
      "id": "650bf040",
      "execution_count": 18,
      "outputs": [
        {
          "output_type": "display_data",
          "data": {
            "image/png": "[encoded data removed]",
            "text/plain": [
              "<Figure size 432x288 with 1 Axes>"
            ]
          },
          "metadata": {
            "needs_background": "light"
          }
        }
      ]
    },
    {
      "cell_type": "markdown",
      "metadata": {
        "id": "a432e42a"
      },
      "source": [
        "## 4. Rancang ANN\n",
        "1. Penyiapan data"
      ],
      "id": "a432e42a"
    },
    {
      "cell_type": "code",
      "metadata": {
        "colab": {
          "base_uri": "https://localhost:8080/"
        },
        "id": "5e2148ac",
        "outputId": "be4707df-7764-4a6e-c4be-3173f6367ff2"
      },
      "source": [
        "from sklearn.model_selection import train_test_split\n",
        "from sklearn.metrics import accuracy_score\n",
        "\n",
        "def generateClassificationReport(y_test,y_pred):\n",
        "    print(classification_report(y_test,y_pred))\n",
        "    print(confusion_matrix(y_test,y_pred))    \n",
        "    print('accuracy is ',accuracy_score(y_test,y_pred))\n",
        "\n",
        "ID=np.zeros(2000)\n",
        "ID[idx2]=1;\n",
        "\n",
        "#Define train and test set\n",
        "X_train,X_test,y_train,y_test = train_test_split(fPca,ID,test_size=0.2, random_state=0)\n",
        "print ('ukuran X_train:',X_train.shape)\n",
        "print ('ukuran X_test:',X_test.shape)"
      ],
      "id": "5e2148ac",
      "execution_count": 19,
      "outputs": [
        {
          "output_type": "stream",
          "name": "stdout",
          "text": [
            "ukuran X_train: (1600, 2)\n",
            "ukuran X_test: (400, 2)\n"
          ]
        }
      ]
    },
    {
      "cell_type": "markdown",
      "metadata": {
        "id": "565cc069"
      },
      "source": [
        "2. Create MLP model"
      ],
      "id": "565cc069"
    },
    {
      "cell_type": "code",
      "metadata": {
        "id": "16efb34d"
      },
      "source": [
        "from sklearn.metrics import classification_report\n",
        "from sklearn.metrics import confusion_matrix\n",
        "#Create ANN\n",
        "from sklearn.neural_network import MLPClassifier\n",
        "mlp = MLPClassifier(hidden_layer_sizes=(6,4),max_iter=500)"
      ],
      "id": "16efb34d",
      "execution_count": 20,
      "outputs": []
    },
    {
      "cell_type": "markdown",
      "metadata": {
        "id": "37014f18"
      },
      "source": [
        "3. Training dan Evaluasi"
      ],
      "id": "37014f18"
    },
    {
      "cell_type": "code",
      "metadata": {
        "colab": {
          "base_uri": "https://localhost:8080/"
        },
        "id": "7df5ea72",
        "outputId": "0c760cb6-c7fb-4d9c-a723-29fafdc48d08"
      },
      "source": [
        "#Training\n",
        "mlp.fit(X_train,y_train)\n",
        "\n",
        "#Evaluation\n",
        "y_pred = mlp.predict(X_test)\n",
        "\n",
        "#Show the performance \n",
        "generateClassificationReport(y_test,y_pred)"
      ],
      "id": "7df5ea72",
      "execution_count": 21,
      "outputs": [
        {
          "output_type": "stream",
          "name": "stdout",
          "text": [
            "              precision    recall  f1-score   support\n",
            "\n",
            "         0.0       1.00      1.00      1.00       375\n",
            "         1.0       1.00      0.96      0.98        25\n",
            "\n",
            "    accuracy                           1.00       400\n",
            "   macro avg       1.00      0.98      0.99       400\n",
            "weighted avg       1.00      1.00      1.00       400\n",
            "\n",
            "[[375   0]\n",
            " [  1  24]]\n",
            "accuracy is  0.9975\n"
          ]
        }
      ]
    },
    {
      "cell_type": "code",
      "metadata": {
        "colab": {
          "base_uri": "https://localhost:8080/"
        },
        "id": "359aec51",
        "outputId": "7670e692-4a6c-4c20-94bd-10cc13ef2b31"
      },
      "source": [
        "#Define train and test set\n",
        "X_train,X_test,y_train,y_test = train_test_split(fPca,ID,test_size=0.3, random_state=0)\n",
        "print ('ukuran X_train:',X_train.shape)\n",
        "print ('ukuran X_test:',X_test.shape)\n",
        "\n",
        "mlp = MLPClassifier(hidden_layer_sizes=(4,3),max_iter=500)\n",
        "\n",
        "#Training\n",
        "mlp.fit(X_train,y_train)\n",
        "\n",
        "#Evaluation\n",
        "y_pred = mlp.predict(X_test)\n",
        "\n",
        "#Show the performance \n",
        "generateClassificationReport(y_test,y_pred)\n"
      ],
      "id": "359aec51",
      "execution_count": 22,
      "outputs": [
        {
          "output_type": "stream",
          "name": "stdout",
          "text": [
            "ukuran X_train: (1400, 2)\n",
            "ukuran X_test: (600, 2)\n",
            "              precision    recall  f1-score   support\n",
            "\n",
            "         0.0       1.00      1.00      1.00       568\n",
            "         1.0       1.00      0.97      0.98        32\n",
            "\n",
            "    accuracy                           1.00       600\n",
            "   macro avg       1.00      0.98      0.99       600\n",
            "weighted avg       1.00      1.00      1.00       600\n",
            "\n",
            "[[568   0]\n",
            " [  1  31]]\n",
            "accuracy is  0.9983333333333333\n"
          ]
        },
        {
          "output_type": "stream",
          "name": "stderr",
          "text": [
            "/usr/local/lib/python3.7/dist-packages/sklearn/neural_network/_multilayer_perceptron.py:696: ConvergenceWarning: Stochastic Optimizer: Maximum iterations (500) reached and the optimization hasn't converged yet.\n",
            "  ConvergenceWarning,\n"
          ]
        }
      ]
    },
    {
      "cell_type": "markdown",
      "metadata": {
        "id": "2fc37bde"
      },
      "source": [
        "3. Create another MLP model"
      ],
      "id": "2fc37bde"
    },
    {
      "cell_type": "code",
      "metadata": {
        "id": "TxEfsGi7AmWs"
      },
      "source": [
        "#Create ANN\n",
        "from sklearn.neural_network import MLPClassifier\n",
        "mlp_new = MLPClassifier(hidden_layer_sizes=(12,8),max_iter=1000)"
      ],
      "id": "TxEfsGi7AmWs",
      "execution_count": 23,
      "outputs": []
    },
    {
      "cell_type": "markdown",
      "metadata": {
        "id": "FOvO6YlqBf__"
      },
      "source": [
        "4. Training dan Evaluasi"
      ],
      "id": "FOvO6YlqBf__"
    },
    {
      "cell_type": "code",
      "metadata": {
        "colab": {
          "base_uri": "https://localhost:8080/"
        },
        "id": "4CDPWaVzA2WK",
        "outputId": "911272bd-903c-4f3d-f789-285c9c0cbeb2"
      },
      "source": [
        "#Training\n",
        "mlp_new.fit(X_train,y_train)\n",
        "\n",
        "#Evaluation\n",
        "y_pred = mlp_new.predict(X_test)\n",
        "\n",
        "#Show the performance \n",
        "generateClassificationReport(y_test,y_pred)"
      ],
      "id": "4CDPWaVzA2WK",
      "execution_count": 24,
      "outputs": [
        {
          "output_type": "stream",
          "name": "stdout",
          "text": [
            "              precision    recall  f1-score   support\n",
            "\n",
            "         0.0       1.00      1.00      1.00       568\n",
            "         1.0       1.00      0.97      0.98        32\n",
            "\n",
            "    accuracy                           1.00       600\n",
            "   macro avg       1.00      0.98      0.99       600\n",
            "weighted avg       1.00      1.00      1.00       600\n",
            "\n",
            "[[568   0]\n",
            " [  1  31]]\n",
            "accuracy is  0.9983333333333333\n"
          ]
        }
      ]
    },
    {
      "cell_type": "code",
      "metadata": {
        "colab": {
          "base_uri": "https://localhost:8080/"
        },
        "id": "_SB8YZ5IBGRf",
        "outputId": "2ec43d26-0c67-4527-9c86-9bae25bd5161"
      },
      "source": [
        "#Define train and test set\n",
        "X_train,X_test,y_train,y_test = train_test_split(fPca,ID,test_size=0.2, random_state=0)\n",
        "print ('ukuran X_train:',X_train.shape)\n",
        "print ('ukuran X_test:',X_test.shape)\n",
        "\n",
        "mlp = MLPClassifier(hidden_layer_sizes=(8,6),max_iter=1000)\n",
        "\n",
        "#Training\n",
        "mlp.fit(X_train,y_train)\n",
        "\n",
        "#Evaluation\n",
        "y_pred = mlp.predict(X_test)\n",
        "\n",
        "#Show the performance \n",
        "generateClassificationReport(y_test,y_pred)"
      ],
      "id": "_SB8YZ5IBGRf",
      "execution_count": 25,
      "outputs": [
        {
          "output_type": "stream",
          "name": "stdout",
          "text": [
            "ukuran X_train: (1600, 2)\n",
            "ukuran X_test: (400, 2)\n",
            "              precision    recall  f1-score   support\n",
            "\n",
            "         0.0       1.00      1.00      1.00       375\n",
            "         1.0       1.00      0.96      0.98        25\n",
            "\n",
            "    accuracy                           1.00       400\n",
            "   macro avg       1.00      0.98      0.99       400\n",
            "weighted avg       1.00      1.00      1.00       400\n",
            "\n",
            "[[375   0]\n",
            " [  1  24]]\n",
            "accuracy is  0.9975\n"
          ]
        }
      ]
    }
  ]
}